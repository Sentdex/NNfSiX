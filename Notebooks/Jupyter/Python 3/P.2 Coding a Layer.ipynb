{
 "cells": [
  {
   "cell_type": "code",
   "execution_count": 12,
   "id": "e0daf014",
   "metadata": {},
   "outputs": [
    {
     "name": "stdout",
     "output_type": "stream",
     "text": [
      "[4.8, 1.21, 2.385]\n"
     ]
    }
   ],
   "source": [
    "## Inputs are from a layer, 4 incoming neurons going to 3 neurons - https://nnfs.io/mxo/\n",
    "inputs = [1, 2, 3, 2.5]\n",
    "\n",
    "## Each input neurons has its own weight for each of the neurons\n",
    "weights1 = [0.2, 0.8, -0.5, 1.0]\n",
    "weights2 = [0.5, -0.91, 0.26, -0.5]\n",
    "weights3 = [-0.26, -0.27, 0.17, 0.87]\n",
    "\n",
    "## Each neurons has its own bias\n",
    "bias1 = 2\n",
    "bias2 = 3\n",
    "bias3 = 0.5\n",
    "\n",
    "output = [\n",
    "    inputs[0]*weights1[0] + \n",
    "    inputs[1]*weights1[1] + \n",
    "    inputs[2]*weights1[2] + \n",
    "    inputs[3]*weights1[3] + bias1,\n",
    "    \n",
    "    inputs[0]*weights2[0] + \n",
    "    inputs[1]*weights2[1] + \n",
    "    inputs[2]*weights2[2] + \n",
    "    inputs[3]*weights2[3] + bias2,\n",
    "    \n",
    "    inputs[0]*weights3[0] + \n",
    "    inputs[1]*weights3[1] + \n",
    "    inputs[2]*weights3[2] + \n",
    "    inputs[3]*weights3[3] + bias3]\n",
    "\n",
    "print(output)"
   ]
  }
 ],
 "metadata": {
  "kernelspec": {
   "display_name": "Python 3 (ipykernel)",
   "language": "python",
   "name": "python3"
  },
  "language_info": {
   "codemirror_mode": {
    "name": "ipython",
    "version": 3
   },
   "file_extension": ".py",
   "mimetype": "text/x-python",
   "name": "python",
   "nbconvert_exporter": "python",
   "pygments_lexer": "ipython3",
   "version": "3.10.5"
  }
 },
 "nbformat": 4,
 "nbformat_minor": 5
}
