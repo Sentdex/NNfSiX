{
 "cells": [
  {
   "cell_type": "code",
   "execution_count": 4,
   "id": "e0daf014",
   "metadata": {},
   "outputs": [
    {
     "name": "stdout",
     "output_type": "stream",
     "text": [
      "[4.8, 1.21, 2.385]\n"
     ]
    }
   ],
   "source": [
    "## Part 1\n",
    "## Inputs are from a layer, 4 incoming neurons going to 3 neurons - https://nnfs.io/mxo/\n",
    "inputs = [1, 2, 3, 2.5]\n",
    "\n",
    "## Each input neurons has its own weight for each of the neurons\n",
    "weights = [[0.2, 0.8, -0.5, 1.0], \n",
    "          [0.5, -0.91, 0.26, -0.5],\n",
    "          [-0.26, -0.27, 0.17, 0.87]]\n",
    "\n",
    "## Each neurons has its own bias\n",
    "biases = [2, 3, 0.5]\n",
    "\n",
    "\n",
    "layer_outputs = [] # Output of current layer\n",
    "for neuron_weights, neuron_bias in zip(weights, biases):\n",
    "    neuron_output = 0 # Output of given neuron\n",
    "    for n_input, weight in zip(inputs, neuron_weights):\n",
    "        neuron_output += n_input*weight\n",
    "    neuron_output += neuron_bias\n",
    "    layer_outputs.append(neuron_output)\n",
    "\n",
    "print(layer_outputs)\n"
   ]
  },
  {
   "cell_type": "code",
   "execution_count": 8,
   "id": "0ff952ab",
   "metadata": {},
   "outputs": [
    {
     "name": "stdout",
     "output_type": "stream",
     "text": [
      "4.8\n"
     ]
    }
   ],
   "source": [
    "## Part 2 - https://nnfs.io/blq/\n",
    "import numpy as np\n",
    "\n",
    "## Inputs are from a layer, 4 incoming neurons going to 1 neuron - https://nnfs.io/mxo/\n",
    "inputs = [1, 2, 3, 2.5]\n",
    "\n",
    "## Each input neuron has its own weight for each neuron\n",
    "weights = [0.2, 0.8, -0.5, 1.0]\n",
    "\n",
    "## Each neuron has its own bias\n",
    "bias = 2\n",
    "\n",
    "## Dot product - https://nnfs.io/xpo/\n",
    "output = np.dot(weights, inputs) + bias\n",
    "\n",
    "print(output)"
   ]
  },
  {
   "cell_type": "code",
   "execution_count": 9,
   "id": "df49c4eb",
   "metadata": {},
   "outputs": [
    {
     "name": "stdout",
     "output_type": "stream",
     "text": [
      "[4.8   1.21  2.385]\n"
     ]
    }
   ],
   "source": [
    "## Part 3 - https://nnfs.io/cyx/\n",
    "import numpy as np\n",
    "\n",
    "## Inputs are from a layer, 4 incoming neurons going to 3 neurons - https://nnfs.io/mxo/\n",
    "inputs = [1, 2, 3, 2.5]\n",
    "\n",
    "## Each input neurons has its own weight for each of the neurons\n",
    "weights = [[0.2, 0.8, -0.5, 1.0], \n",
    "          [0.5, -0.91, 0.26, -0.5],\n",
    "          [-0.26, -0.27, 0.17, 0.87]]\n",
    "\n",
    "## Each neurons has its own bias\n",
    "biases = [2, 3, 0.5]\n",
    "\n",
    "output = np.dot(weights, inputs) + biases\n",
    "\n",
    "print(output)"
   ]
  },
  {
   "cell_type": "code",
   "execution_count": null,
   "id": "ac3482e5",
   "metadata": {},
   "outputs": [],
   "source": []
  }
 ],
 "metadata": {
  "kernelspec": {
   "display_name": "Python 3 (ipykernel)",
   "language": "python",
   "name": "python3"
  },
  "language_info": {
   "codemirror_mode": {
    "name": "ipython",
    "version": 3
   },
   "file_extension": ".py",
   "mimetype": "text/x-python",
   "name": "python",
   "nbconvert_exporter": "python",
   "pygments_lexer": "ipython3",
   "version": "3.10.5"
  }
 },
 "nbformat": 4,
 "nbformat_minor": 5
}
