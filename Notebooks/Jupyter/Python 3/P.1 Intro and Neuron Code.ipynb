{
 "cells": [
  {
   "cell_type": "code",
   "execution_count": 6,
   "id": "b5ced594",
   "metadata": {},
   "outputs": [
    {
     "name": "stdout",
     "output_type": "stream",
     "text": [
      "2.3\n"
     ]
    }
   ],
   "source": [
    "## Input layer that contains 3 neurons https://nnfs.io/bkr/\n",
    "inputs = [1, 2, 3]\n",
    "\n",
    "## Each neuron has a connection to the 1 neuron we are modelling. Therefore 3 weights.\n",
    "weights = [0.2, 0.8, -0.5]\n",
    "\n",
    "## However, the neuron we are modelling is the only thing that has a bias and thus only 1 bias. \n",
    "bias = 2\n",
    "\n",
    "## Input * weight for each + bias\n",
    "output = inputs[0]*weights[0] + inputs[1]*weights[1] + inputs[2]*weights[2] + bias\n",
    "\n",
    "print(output)"
   ]
  }
 ],
 "metadata": {
  "kernelspec": {
   "display_name": "Python 3 (ipykernel)",
   "language": "python",
   "name": "python3"
  },
  "language_info": {
   "codemirror_mode": {
    "name": "ipython",
    "version": 3
   },
   "file_extension": ".py",
   "mimetype": "text/x-python",
   "name": "python",
   "nbconvert_exporter": "python",
   "pygments_lexer": "ipython3",
   "version": "3.10.5"
  }
 },
 "nbformat": 4,
 "nbformat_minor": 5
}
